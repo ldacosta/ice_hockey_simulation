{
 "cells": [
  {
   "cell_type": "code",
   "execution_count": 3,
   "metadata": {
    "collapsed": false
   },
   "outputs": [
    {
     "data": {
      "text/html": [
       "<iframe id=\"igraph\" scrolling=\"no\" style=\"border:none;\" seamless=\"seamless\" src=\"https://plot.ly/~ldacosta/2.embed\" height=\"800px\" width=\"800px\"></iframe>"
      ],
      "text/plain": [
       "<plotly.tools.PlotlyDisplay object>"
      ]
     },
     "execution_count": 3,
     "metadata": {},
     "output_type": "execute_result"
    }
   ],
   "source": [
    "import plotly.plotly as py\n",
    "import plotly.graph_objs as go\n",
    "\n",
    "trace0 = go.Scatter(\n",
    "    x=[1.5, 3.5],\n",
    "    y=[0.75, 2.5],\n",
    "    text=['Unfilled Circle', \n",
    "          'Filled Circle'],\n",
    "    mode='text',\n",
    ")\n",
    "data = [trace0]\n",
    "\n",
    "layout = {\n",
    "    'xaxis': {\n",
    "        'range': [0, 4.5],\n",
    "        'zeroline': False,\n",
    "    },\n",
    "    'yaxis': {\n",
    "        'range': [0, 4.5]\n",
    "    },\n",
    "    'width': 800,\n",
    "    'height': 800,\n",
    "    'shapes': [\n",
    "        # unfilled circle\n",
    "        {\n",
    "            'type': 'circle',\n",
    "            'xref': 'x',\n",
    "            'yref': 'y',\n",
    "            'x0': 1,\n",
    "            'y0': 1,\n",
    "            'x1': 3,\n",
    "            'y1': 3,\n",
    "            'line': {\n",
    "                'color': 'rgba(50, 171, 96, 1)',\n",
    "            },\n",
    "        },\n",
    "        # filled circle\n",
    "        {\n",
    "            'type': 'circle',\n",
    "            'xref': 'x',\n",
    "            'yref': 'y',\n",
    "            'fillcolor': 'rgba(50, 171, 96, 0.7)',\n",
    "            'x0': 3,\n",
    "            'y0': 3,\n",
    "            'x1': 4,\n",
    "            'y1': 4,\n",
    "            'line': {\n",
    "                'color': 'rgba(50, 171, 96, 1)',\n",
    "            },\n",
    "        },\n",
    "    ]\n",
    "}\n",
    "fig = {\n",
    "    'data': data,\n",
    "    'layout': layout,\n",
    "}\n",
    "py.iplot(fig, filename='shapes-circle')"
   ]
  },
  {
   "cell_type": "code",
   "execution_count": null,
   "metadata": {
    "collapsed": true
   },
   "outputs": [],
   "source": []
  }
 ],
 "metadata": {
  "kernelspec": {
   "display_name": "Python (hockey-simulation)",
   "language": "python",
   "name": "hockey-simulation"
  },
  "language_info": {
   "codemirror_mode": {
    "name": "ipython",
    "version": 3
   },
   "file_extension": ".py",
   "mimetype": "text/x-python",
   "name": "python",
   "nbconvert_exporter": "python",
   "pygments_lexer": "ipython3",
   "version": "3.6.2"
  }
 },
 "nbformat": 4,
 "nbformat_minor": 2
}

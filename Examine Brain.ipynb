{
 "cells": [
  {
   "cell_type": "markdown",
   "metadata": {},
   "source": [
    "## read results "
   ]
  },
  {
   "cell_type": "code",
   "execution_count": 1,
   "metadata": {
    "collapsed": false
   },
   "outputs": [],
   "source": [
    "%load_ext autoreload\n",
    "%autoreload 2\n",
    "\n",
    "%matplotlib inline"
   ]
  },
  {
   "cell_type": "code",
   "execution_count": 2,
   "metadata": {
    "collapsed": true
   },
   "outputs": [],
   "source": [
    "from IPython.core.interactiveshell import InteractiveShell\n",
    "InteractiveShell.ast_node_interactivity = \"all\""
   ]
  },
  {
   "cell_type": "code",
   "execution_count": 8,
   "metadata": {
    "collapsed": false
   },
   "outputs": [],
   "source": [
    "import pandas as pd\n",
    "import matplotlib\n",
    "import numpy as np\n",
    "import matplotlib.pyplot as plt\n",
    "import os\n",
    "from hockey.visualization.pygame.animate_hockey_game import read_and_merge_dataframes"
   ]
  },
  {
   "cell_type": "markdown",
   "metadata": {},
   "source": [
    "## Helper function(s)"
   ]
  },
  {
   "cell_type": "code",
   "execution_count": 4,
   "metadata": {
    "collapsed": true
   },
   "outputs": [],
   "source": [
    "def running_mean(x, N):\n",
    "    cumsum = np.cumsum(np.insert(x, 0, 0)) \n",
    "    return (cumsum[N:] - cumsum[:-N]) / float(N)\n"
   ]
  },
  {
   "cell_type": "markdown",
   "metadata": {},
   "source": [
    "## Display matrix as heatmap\n"
   ]
  },
  {
   "cell_type": "code",
   "execution_count": 5,
   "metadata": {
    "collapsed": false
   },
   "outputs": [
    {
     "data": {
      "text/plain": [
       "<matplotlib.colorbar.Colorbar at 0x10d390828>"
      ]
     },
     "execution_count": 5,
     "metadata": {},
     "output_type": "execute_result"
    },
    {
     "data": {
      "image/png": "[encoded data removed]",
      "text/plain": [
       "<matplotlib.figure.Figure at 0x1095070f0>"
      ]
     },
     "metadata": {},
     "output_type": "display_data"
    }
   ],
   "source": [
    "import matplotlib.pyplot as plt\n",
    "import numpy as np\n",
    "\n",
    "fig, axis = plt.subplots()\n",
    "a = np.random.random((10, 10)) # ((16, 16))\n",
    "heatmap = axis.pcolor(a, cmap=plt.cm.cool) # Blues)\n",
    "# plt.imshow(a, cmap='hot', interpolation='nearest')\n",
    "plt.colorbar(heatmap)\n",
    "plt.show()"
   ]
  },
  {
   "cell_type": "code",
   "execution_count": 75,
   "metadata": {
    "collapsed": false
   },
   "outputs": [],
   "source": [
    "from hockey.core.folder_manager import FolderManager\n",
    "folder_mgr = FolderManager(experiments_root_dir = \"/Users/luisd/luis-simulation\", experiment_name = \"discrete_5x5\")\n"
   ]
  },
  {
   "cell_type": "code",
   "execution_count": 77,
   "metadata": {
    "collapsed": false,
    "scrolled": false
   },
   "outputs": [
    {
     "data": {
      "text/plain": [
       "'/Users/luisd/luis-simulation/discrete_5x5/brain/evals/discrete_5x5_eval_episode_1.csv'"
      ]
     },
     "execution_count": 77,
     "metadata": {},
     "output_type": "execute_result"
    },
    {
     "name": "stdout",
     "output_type": "stream",
     "text": [
      "Episode 1. Performance = 0.01 +/- 0.05\n"
     ]
    },
    {
     "data": {
      "text/plain": [
       "'/Users/luisd/luis-simulation/discrete_5x5/brain/evals/discrete_5x5_eval_episode_10.csv'"
      ]
     },
     "execution_count": 77,
     "metadata": {},
     "output_type": "execute_result"
    },
    {
     "name": "stdout",
     "output_type": "stream",
     "text": [
      "Episode 10. Performance = 0.05 +/- 0.15\n"
     ]
    },
    {
     "data": {
      "text/plain": [
       "'/Users/luisd/luis-simulation/discrete_5x5/brain/evals/discrete_5x5_eval_episode_20.csv'"
      ]
     },
     "execution_count": 77,
     "metadata": {},
     "output_type": "execute_result"
    },
    {
     "name": "stdout",
     "output_type": "stream",
     "text": [
      "Episode 20. Performance = 0.06 +/- 0.16\n"
     ]
    },
    {
     "data": {
      "text/plain": [
       "'/Users/luisd/luis-simulation/discrete_5x5/brain/evals/discrete_5x5_eval_episode_50.csv'"
      ]
     },
     "execution_count": 77,
     "metadata": {},
     "output_type": "execute_result"
    },
    {
     "name": "stdout",
     "output_type": "stream",
     "text": [
      "Episode 50. Performance = 0.05 +/- 0.15\n"
     ]
    },
    {
     "data": {
      "text/plain": [
       "'/Users/luisd/luis-simulation/discrete_5x5/brain/evals/discrete_5x5_eval_episode_100.csv'"
      ]
     },
     "execution_count": 77,
     "metadata": {},
     "output_type": "execute_result"
    },
    {
     "name": "stdout",
     "output_type": "stream",
     "text": [
      "Episode 100. Performance = 0.13 +/- 0.22\n"
     ]
    },
    {
     "data": {
      "text/plain": [
       "'/Users/luisd/luis-simulation/discrete_5x5/brain/evals/discrete_5x5_eval_episode_150.csv'"
      ]
     },
     "execution_count": 77,
     "metadata": {},
     "output_type": "execute_result"
    },
    {
     "name": "stdout",
     "output_type": "stream",
     "text": [
      "Episode 150. Performance = 0.12 +/- 0.21\n"
     ]
    },
    {
     "data": {
      "text/plain": [
       "'/Users/luisd/luis-simulation/discrete_5x5/brain/evals/discrete_5x5_eval_episode_200.csv'"
      ]
     },
     "execution_count": 77,
     "metadata": {},
     "output_type": "execute_result"
    },
    {
     "name": "stdout",
     "output_type": "stream",
     "text": [
      "Episode 200. Performance = 0.11 +/- 0.21\n"
     ]
    },
    {
     "data": {
      "text/plain": [
       "'/Users/luisd/luis-simulation/discrete_5x5/brain/evals/discrete_5x5_eval_episode_250.csv'"
      ]
     },
     "execution_count": 77,
     "metadata": {},
     "output_type": "execute_result"
    },
    {
     "name": "stdout",
     "output_type": "stream",
     "text": [
      "Episode 250. Performance = 0.09 +/- 0.19\n"
     ]
    },
    {
     "data": {
      "text/plain": [
       "'/Users/luisd/luis-simulation/discrete_5x5/brain/evals/discrete_5x5_eval_episode_300.csv'"
      ]
     },
     "execution_count": 77,
     "metadata": {},
     "output_type": "execute_result"
    },
    {
     "name": "stdout",
     "output_type": "stream",
     "text": [
      "Episode 300. Performance = 0.13 +/- 0.22\n"
     ]
    },
    {
     "data": {
      "text/plain": [
       "'/Users/luisd/luis-simulation/discrete_5x5/brain/evals/discrete_5x5_eval_episode_400.csv'"
      ]
     },
     "execution_count": 77,
     "metadata": {},
     "output_type": "execute_result"
    },
    {
     "name": "stdout",
     "output_type": "stream",
     "text": [
      "Episode 400. Performance = 0.17 +/- 0.23\n"
     ]
    }
   ],
   "source": [
    "do_plot = False\n",
    "all_episodes = [1,6,7, 10, 20, 25, 26,27, 100, 200, 300]\n",
    "all_episodes = [1, 10, 20, 50, 100, 150, 200, 250, 300, 400]\n",
    "# do_plot = True\n",
    "# all_episodes = [20, 25]\n",
    "for num_episode in all_episodes:\n",
    "    eval_file_name = folder_mgr.brain_eval_file_name(episode=num_episode, full=True)\n",
    "    eval_file_name\n",
    "    with open(eval_file_name,\"rb\") as pickle_in:\n",
    "        perfs_dict = pickle.load(pickle_in)\n",
    "        mean_of_means = 0\n",
    "        mean_of_std_devs = 0\n",
    "        for descr, (the_matrix, (the_mean, the_std_dev)) in perfs_dict.items():\n",
    "            if do_plot:\n",
    "                fig, axis = plt.subplots()\n",
    "                heatmap = axis.pcolor(the_matrix, cmap=plt.cm.afmhot, vmin=0, vmax=1) # Blues)# afmhot, brg, cool or Blues)\n",
    "                plt.colorbar(heatmap)\n",
    "                _ = plt.title(\"Episode %d; %s. \\nMean = %.2f +/- %.2f\" % (num_episode, descr, the_mean, the_std_dev))\n",
    "                plt.show()    \n",
    "            mean_of_means += the_mean\n",
    "            mean_of_std_devs += the_std_dev\n",
    "        mean_of_means /= len(perfs_dict)\n",
    "        mean_of_std_devs /= len(perfs_dict)\n",
    "        print(\"Episode %d. Performance = %.2f +/- %.2f\" % (num_episode, mean_of_means, mean_of_std_devs))\n"
   ]
  },
  {
   "cell_type": "markdown",
   "metadata": {},
   "source": [
    "## Create Evaluator"
   ]
  },
  {
   "cell_type": "code",
   "execution_count": null,
   "metadata": {
    "collapsed": false
   },
   "outputs": [],
   "source": [
    "import pickle\n",
    "import time\n",
    "import os\n",
    "import random\n",
    "from pathlib import Path\n",
    "import numpy as np\n",
    "from typing import Callable, Optional, Tuple\n",
    "\n",
    "from geometry.point import Point\n",
    "from geometry.vector import Vec2d, X_UNIT_VECTOR\n",
    "from hockey.behaviour.core.action import HockeyAction\n",
    "from hockey.core.half_rink import HockeyHalfRink\n",
    "\n",
    "from hockey.behaviour.core.hockey_scenario import GrabThePuckProblem\n",
    "\n",
    "\n",
    "# *********************************************\n",
    "\n",
    "\n",
    "hockeyworld = HockeyHalfRink(\n",
    "    width=HockeyHalfRink.WIDTH_HALF_ICE, \n",
    "    height=HockeyHalfRink.HEIGHT_ICE, \n",
    "    how_many_defense=0, \n",
    "    how_many_offense=1,\n",
    "    one_step_in_seconds=1,\n",
    "    collect_data_every_secs=1, \n",
    "    record_this_many_minutes=1)\n",
    "basic_fwd_problem = GrabThePuckProblem(hockeyworld)\n",
    "total_actions = len(basic_fwd_problem.get_possible_actions())\n"
   ]
  },
  {
   "cell_type": "code",
   "execution_count": null,
   "metadata": {
    "collapsed": false,
    "scrolled": false
   },
   "outputs": [],
   "source": [
    "perfs_dict = {}\n",
    "brain_root_dir = \"/Users/luisd/luis-simulation/models/speed1_small\"\n",
    "episodes = [1,10,20, 21, 22, 50, 51, 52, 200, 201,202, 500, 501, 502,600, 601, 602,800, 801, 802,]\n",
    "episodes = [20, 600]\n",
    "\n",
    "quality = {}\n",
    "for episode in episodes:\n",
    "    brain_file_name = os.path.join(brain_root_dir, \"brain_episode_%d.bin\" % (episode))\n",
    "    print(\"Going for episode %d (file: '%s')\" % (episode, brain_file_name))\n",
    "    evaluator = Evaluator(player=hockeyworld.attack[0], \n",
    "                          load_from_full_file_name=brain_file_name, \n",
    "                          total_number_of_actions=total_actions, steps_in_height=1, steps_in_widht=1)\n",
    "    # quality_wrapper = QualityWrapper(evaluator, brain_file_name)\n",
    "    quality[episode] = (0, 0)\n",
    "    # looking at puck\n",
    "    mean_value, std_value = evaluator.quality_when_looking_at_puck()\n",
    "    print(\"[looking at puck] mean = %.2f, std-dev: %.2f\" % (mean_value, std_value))\n",
    "    m, s = quality[episode]\n",
    "    quality[episode] = (m + mean_value, s + std_value)\n",
    "    # looking at left of puck\n",
    "    mean_value, std_value = evaluator.quality_when_looking_at_left()\n",
    "    print(\"[looking at left of puck] mean = %.2f, std-dev: %.2f\" % (mean_value, std_value))\n",
    "    m, s = quality[episode]\n",
    "    quality[episode] = (m + mean_value, s + std_value)\n",
    "    # looking at right of puck\n",
    "    mean_value, std_value = evaluator.quality_when_looking_at_right()\n",
    "    print(\"[looking at right of puck] mean = %.2f, std-dev: %.2f\" % (mean_value, std_value))\n",
    "    m, s = quality[episode]\n",
    "    quality[episode] = (m + mean_value, s + std_value)\n",
    "    # average the whole thing (I don't know...!!)\n",
    "    m, s = quality[episode]\n",
    "    quality[episode] = (m/3, s/3)"
   ]
  },
  {
   "cell_type": "code",
   "execution_count": null,
   "metadata": {
    "collapsed": false
   },
   "outputs": [],
   "source": [
    "quality"
   ]
  },
  {
   "cell_type": "code",
   "execution_count": null,
   "metadata": {
    "collapsed": false
   },
   "outputs": [],
   "source": [
    "means = [v[0] for v in list(quality.values())]\n",
    "std_devs = [v[1] for v in list(quality.values())]\n",
    "plt.plot(list(quality.keys()), means, 'ro:')\n",
    "_ = plt.xlabel(\"Episodes\")\n",
    "_ = plt.ylabel(\"Quality of Learning\")\n",
    "_ = plt.title(\"[mean] Quality of Learning (1 == perfect, 0 = stupid)\")\n"
   ]
  },
  {
   "cell_type": "code",
   "execution_count": null,
   "metadata": {
    "collapsed": false
   },
   "outputs": [],
   "source": [
    "#\n",
    "plt.plot(list(quality.keys()), std_devs, 'ro:')\n",
    "_ = plt.xlabel(\"Episodes\")\n",
    "_ = plt.ylabel(\"std-dev\")\n",
    "_ = plt.title(\"[std-dev] Quality of Learning\")"
   ]
  },
  {
   "cell_type": "code",
   "execution_count": null,
   "metadata": {
    "collapsed": false
   },
   "outputs": [],
   "source": [
    "perfs_dict = {}\n",
    "# . \"/Users/luisd/luis-simulation/models/speed1_small\"\n",
    "def display_for_episode(\n",
    "    brain_root_dir: str,\n",
    "    episode: int, \n",
    "    recreate: bool,\n",
    "    do_warm_up: bool,\n",
    "    show_adequacy: bool = True, \n",
    "    show_distance: bool = True, \n",
    "    show_sensing: bool = True,\n",
    "    height_range = None, width_range = None):\n",
    "    if recreate and (episode in perfs_dict):\n",
    "        del perfs_dict[episode]\n",
    "    if episode not in perfs_dict:\n",
    "        brain_file_name = os.path.join(brain_root_dir, \"brain_episode_%d.bin\" % (episode))\n",
    "        evaluator = Evaluator(player=hockeyworld.attack[0], \n",
    "                              load_from_full_file_name=brain_file_name, \n",
    "                              total_number_of_actions=total_actions, steps_in_height=1, steps_in_widht=1)\n",
    "        matrix_for_aligning2(\n",
    "            evaluator,\n",
    "            do_warm_up,\n",
    "            compare_with=None, \n",
    "            verbose = False)\n",
    "        perfs_dict[episode] = (brain_file_name, evaluator)\n",
    "    brain_file_name, evaluator = perfs_dict[episode]\n",
    "    # display\n",
    "    if show_adequacy:\n",
    "        show_actions_adequacy(episode, brain_file_name, evaluator, height_range, width_range)\n",
    "    if show_distance:\n",
    "        show_distance_to_optimal_action(episode, brain_file_name, evaluator, height_range, width_range)\n",
    "    if show_sensing:\n",
    "        show_sensings(episode, brain_file_name, evaluator, height_range, width_range)\n",
    "    return evaluator, r_matrix_looking_fwd\n"
   ]
  },
  {
   "cell_type": "markdown",
   "metadata": {},
   "source": [
    "# without warm-up\n"
   ]
  },
  {
   "cell_type": "code",
   "execution_count": null,
   "metadata": {
    "collapsed": false,
    "scrolled": false
   },
   "outputs": [],
   "source": [
    "_ = display_for_episode(episode = 600,\n",
    "                                  recreate = False,\n",
    "                    do_warm_up = False,\n",
    "                    show_adequacy = True, \n",
    "                    show_distance = False, \n",
    "                    show_sensing = False)\n",
    "_ = display_for_episode(episode = 601,\n",
    "                                  recreate = False,\n",
    "                    do_warm_up = False,\n",
    "                    show_adequacy = True, \n",
    "                    show_distance = False, \n",
    "                    show_sensing = False)\n",
    "_ = display_for_episode(episode = 502,\n",
    "                                  recreate = False,\n",
    "                    do_warm_up = False,\n",
    "                    show_adequacy = True, \n",
    "                    show_distance = False, \n",
    "                    show_sensing = False)\n",
    "_ = display_for_episode(episode = 1601,\n",
    "                                  recreate = False,\n",
    "                    do_warm_up = False,\n",
    "                    show_adequacy = True, \n",
    "                    show_distance = False, \n",
    "                    show_sensing = False)\n",
    "_ = display_for_episode(episode = 1602,\n",
    "                                  recreate = False,\n",
    "                    do_warm_up = False,\n",
    "                    show_adequacy = True, \n",
    "                    show_distance = False, \n",
    "                    show_sensing = False)\n",
    "# ev_with_warmup, m_with_warmup = display_for_episode(episode = 500,\n",
    "#                                   recreate = True,\n",
    "#                     do_warm_up = True,\n",
    "#                     show_adequacy = True, \n",
    "#                     show_distance = False, \n",
    "#                     show_sensing = False)\n",
    "# m_with_warmup2 = display_for_episode(episode = 500,\n",
    "#                                   recreate = True,\n",
    "#                     do_warm_up = True,\n",
    "#                     show_adequacy = True, \n",
    "#                     show_distance = False, \n",
    "#                     show_sensing = False)"
   ]
  },
  {
   "cell_type": "code",
   "execution_count": null,
   "metadata": {
    "collapsed": false
   },
   "outputs": [],
   "source": [
    "np.allclose(ev_no_warmup.sensing_matrix, ev_with_warmup.sensing_matrix)"
   ]
  },
  {
   "cell_type": "code",
   "execution_count": null,
   "metadata": {
    "collapsed": false
   },
   "outputs": [],
   "source": [
    "len(np.where(m_no_warmup != m_with_warmup)[0])"
   ]
  },
  {
   "cell_type": "code",
   "execution_count": null,
   "metadata": {
    "collapsed": false
   },
   "outputs": [],
   "source": [
    "m1 = m_with_warmup\n",
    "m2 = m_no_warmup # m_with_warmup2\n",
    "# MM = np.subtract(m_no_warmup, m_with_warmup)\n",
    "if len(np.where(m1 != m2)[0]) == 0:\n",
    "    print(\"These 2 matrixes are the same\")\n",
    "else:\n",
    "    MM = np.subtract(m1, m2)\n",
    "\n",
    "    fig, axis = plt.subplots()\n",
    "    heatmap = axis.pcolor(\n",
    "        MM,\n",
    "        cmap=plt.cm.RdBu)  # afmhot, brg, cool or Blues)\n",
    "    plt.colorbar(heatmap)\n",
    "    # problem_descr = \"puck static at (0,0); player starts at upper right-corner\"\n",
    "    # plt.title(\"Problem: %s\\nEpisode: %d, Score: %.2f +/- %.2f, Source: \\n'%s'\" %\n",
    "    #           (problem_descr, episode, mean_value, std_value, brain_file_name))\n",
    "    plt.show()\n",
    "\n"
   ]
  },
  {
   "cell_type": "code",
   "execution_count": null,
   "metadata": {
    "collapsed": false
   },
   "outputs": [],
   "source": [
    "len(np.unique(MM))"
   ]
  },
  {
   "cell_type": "code",
   "execution_count": null,
   "metadata": {
    "collapsed": false
   },
   "outputs": [],
   "source": [
    "np.where(MM != 0)"
   ]
  },
  {
   "cell_type": "code",
   "execution_count": null,
   "metadata": {
    "collapsed": false
   },
   "outputs": [],
   "source": [
    "NewRange = (1 - 0)\n",
    "OldRange = (np.amax(ev_no_warmup.sensing_matrix - np.amin(ev_no_warmup.sensing_matrix)))\n",
    "new_min = 0\n",
    "NewSensingMatrix = (((ev_no_warmup.sensing_matrix - np.amin(ev_no_warmup.sensing_matrix)) * NewRange) / OldRange) + new_min\n",
    "# \n",
    "MM2 = np.multiply(MM, NewSensingMatrix)\n",
    "len(np.unique(MM2))"
   ]
  },
  {
   "cell_type": "code",
   "execution_count": null,
   "metadata": {
    "collapsed": false
   },
   "outputs": [],
   "source": [
    "MM2[81,:]"
   ]
  },
  {
   "cell_type": "code",
   "execution_count": null,
   "metadata": {
    "collapsed": false
   },
   "outputs": [],
   "source": [
    "fig, axis = plt.subplots()\n",
    "tt = max(abs(np.amin(MM2)), abs(np.amax(MM2)))\n",
    "heatmap = axis.pcolor(\n",
    "    MM2,\n",
    "    cmap=plt.cm.RdBu, vmin=-tt, vmax=tt)  # afmhot, brg, cool or Blues)\n",
    "plt.colorbar(heatmap)\n",
    "# problem_descr = \"puck static at (0,0); player starts at upper right-corner\"\n",
    "# plt.title(\"Problem: %s\\nEpisode: %d, Score: %.2f +/- %.2f, Source: \\n'%s'\" %\n",
    "#           (problem_descr, episode, mean_value, std_value, brain_file_name))\n",
    "plt.show()\n"
   ]
  },
  {
   "cell_type": "markdown",
   "metadata": {},
   "source": [
    "# WITH warm-up"
   ]
  },
  {
   "cell_type": "code",
   "execution_count": null,
   "metadata": {
    "collapsed": false
   },
   "outputs": [],
   "source": [
    "display_for_episode(episode = 100, \n",
    "                    show_adequacy = True, \n",
    "                    show_distance = True, \n",
    "                    show_sensing = True)"
   ]
  },
  {
   "cell_type": "markdown",
   "metadata": {},
   "source": [
    "# without warm-up\n"
   ]
  },
  {
   "cell_type": "code",
   "execution_count": null,
   "metadata": {
    "collapsed": false,
    "scrolled": false
   },
   "outputs": [],
   "source": [
    "recreate_stuff = False\n",
    "show_adq = True\n",
    "_ = display_for_episode(episode = 148, recreate = recreate_stuff, do_warm_up = False, \n",
    "                    show_adequacy = show_adq, show_distance = False, show_sensing = False)\n",
    "_ = display_for_episode(episode = 149, recreate = recreate_stuff, do_warm_up = False, \n",
    "                    show_adequacy = show_adq, show_distance = False, show_sensing = False)\n",
    "_ = display_for_episode(episode = 150, recreate = recreate_stuff, do_warm_up = False, \n",
    "                    show_adequacy = show_adq, show_distance = False, show_sensing = False)\n",
    "_ = display_for_episode(episode = 151, recreate = recreate_stuff, do_warm_up = False, \n",
    "                    show_adequacy = show_adq, show_distance = False, show_sensing = False)\n",
    "_ = display_for_episode(episode = 152, recreate = recreate_stuff, do_warm_up = False, \n",
    "                    show_adequacy = show_adq, show_distance = False, show_sensing = False)\n",
    "# _ = display_for_episode(episode = 248, recreate = recreate_stuff, do_warm_up = False, \n",
    "#                     show_adequacy = show_adq, show_distance = False, show_sensing = False)\n",
    "# _ = display_for_episode(episode = 249, recreate = recreate_stuff, do_warm_up = False, \n",
    "#                     show_adequacy = show_adq, show_distance = False, show_sensing = False)\n",
    "# _ = display_for_episode(episode = 250, recreate = recreate_stuff, do_warm_up = False, \n",
    "#                     show_adequacy = show_adq, show_distance = False, show_sensing = False)\n",
    "# _ = display_for_episode(episode = 251, recreate = recreate_stuff, do_warm_up = False, \n",
    "#                     show_adequacy = show_adq, show_distance = False, show_sensing = False)\n",
    "# _ = display_for_episode(episode = 252, recreate = recreate_stuff, do_warm_up = False, \n",
    "#                     show_adequacy = show_adq, show_distance = False, show_sensing = False)\n",
    "# _ = display_for_episode(episode = 253, recreate = recreate_stuff, do_warm_up = False, \n",
    "#                     show_adequacy = show_adq, show_distance = False, show_sensing = False)\n",
    "_ = display_for_episode(episode = 348, recreate = recreate_stuff, do_warm_up = False, \n",
    "                    show_adequacy = show_adq, show_distance = False, show_sensing = False)\n",
    "_ = display_for_episode(episode = 349, recreate = recreate_stuff, do_warm_up = False, \n",
    "                    show_adequacy = show_adq, show_distance = False, show_sensing = False)\n",
    "_ = display_for_episode(episode = 350, recreate = recreate_stuff, do_warm_up = False, \n",
    "                    show_adequacy = show_adq, show_distance = False, show_sensing = False)\n",
    "_ = display_for_episode(episode = 351, recreate = recreate_stuff, do_warm_up = False, \n",
    "                    show_adequacy = show_adq, show_distance = False, show_sensing = False)\n",
    "_ = display_for_episode(episode = 352, recreate = recreate_stuff, do_warm_up = False, \n",
    "                    show_adequacy = show_adq, show_distance = False, show_sensing = False)\n",
    "_ = display_for_episode(episode = 353, recreate = recreate_stuff, do_warm_up = False, \n",
    "                    show_adequacy = show_adq, show_distance = False, show_sensing = False)\n",
    "_ = display_for_episode(episode = 600, recreate = recreate_stuff, do_warm_up = False, \n",
    "                    show_adequacy = show_adq, show_distance = False, show_sensing = False)\n",
    "_ = display_for_episode(episode = 601, recreate = recreate_stuff, do_warm_up = False, \n",
    "                    show_adequacy = show_adq, show_distance = False, show_sensing = False)\n",
    "_ = display_for_episode(episode = 602, recreate = recreate_stuff, do_warm_up = False, \n",
    "                    show_adequacy = show_adq, show_distance = False, show_sensing = False)\n",
    "_ = display_for_episode(episode = 610, recreate = recreate_stuff, do_warm_up = False, \n",
    "                    show_adequacy = show_adq, show_distance = False, show_sensing = False)\n",
    "_ = display_for_episode(episode = 1000, recreate = recreate_stuff, do_warm_up = False, \n",
    "                    show_adequacy = show_adq, show_distance = False, show_sensing = False)\n",
    "_ = display_for_episode(episode = 1001, recreate = recreate_stuff, do_warm_up = False, \n",
    "                    show_adequacy = show_adq, show_distance = False, show_sensing = False)\n",
    "_ = display_for_episode(episode = 1002, recreate = recreate_stuff, do_warm_up = False, \n",
    "                    show_adequacy = show_adq, show_distance = False, show_sensing = False)\n",
    "_ = display_for_episode(episode = 1010, recreate = recreate_stuff, do_warm_up = False, \n",
    "                    show_adequacy = show_adq, show_distance = False, show_sensing = False)\n",
    "_ = display_for_episode(episode = 1200, recreate = recreate_stuff, do_warm_up = False, \n",
    "                    show_adequacy = show_adq, show_distance = False, show_sensing = False)\n",
    "_ = display_for_episode(episode = 1201, recreate = recreate_stuff, do_warm_up = False, \n",
    "                    show_adequacy = show_adq, show_distance = False, show_sensing = False)\n",
    "_ = display_for_episode(episode = 1202, recreate = recreate_stuff, do_warm_up = False, \n",
    "                    show_adequacy = show_adq, show_distance = False, show_sensing = False)\n",
    "_ = display_for_episode(episode = 1210, recreate = recreate_stuff, do_warm_up = False, \n",
    "                    show_adequacy = show_adq, show_distance = False, show_sensing = False)\n"
   ]
  },
  {
   "cell_type": "code",
   "execution_count": null,
   "metadata": {
    "collapsed": false
   },
   "outputs": [],
   "source": [
    "plt.plot(\n",
    "    [148, 149, 150, 151, 152,248, 249, 250, 251, 252,253, 348, 349, 350, 351, 352, 353, 600, 601, 602, 610], \n",
    "    [0 , 0.18, 0.34, 0.35, 0.27,0.48, 0.28, 0.09, 0.37, 0.08,0.37, 0.25, 0.28, 0.4, 0.2, 0.15, 0, 0.27, 0.38, 0.04, 0.17], 'rx:')\n",
    "# plt.axis([0, 6, 0, 20])\n",
    "plt.show()"
   ]
  },
  {
   "cell_type": "code",
   "execution_count": null,
   "metadata": {
    "collapsed": false,
    "scrolled": false
   },
   "outputs": [],
   "source": [
    "display_for_episode(episode = 10, show_adequacy = True, show_distance = False, show_sensing = False)\n",
    "display_for_episode(episode = 50, show_adequacy = True, show_distance = False, show_sensing = False)\n",
    "display_for_episode(episode = 70, show_adequacy = True, show_distance = False, show_sensing = False)\n",
    "display_for_episode(episode = 100, show_adequacy = True, show_distance = False, show_sensing = False)\n",
    "display_for_episode(episode = 300, show_adequacy = True, show_distance = False, show_sensing = False)\n",
    "display_for_episode(episode = 500, show_adequacy = True, show_distance = False, show_sensing = False)"
   ]
  },
  {
   "cell_type": "code",
   "execution_count": null,
   "metadata": {
    "collapsed": false
   },
   "outputs": [],
   "source": [
    "display_for_episode(episode = 100, \n",
    "                    show_adequacy = True, \n",
    "                    show_distance = True, \n",
    "                    show_sensing = True, \n",
    "                    height_range = slice(50,70), \n",
    "                    width_range = slice(70,80))"
   ]
  },
  {
   "cell_type": "code",
   "execution_count": null,
   "metadata": {
    "collapsed": false
   },
   "outputs": [],
   "source": [
    "brain_file_name, r_matrix_looking_fwd, evaluator = perfs_dict[100]\n",
    "x_range = slice(2) # slice(1,3) #[0:10]\n",
    "y_range = slice(1,5)\n",
    "evaluator.sensing_matrix[x_range, y_range]\n",
    "# evaluator.sensing_matrix[1:3, 1:5]"
   ]
  },
  {
   "cell_type": "code",
   "execution_count": null,
   "metadata": {
    "collapsed": false
   },
   "outputs": [],
   "source": [
    "1:3"
   ]
  },
  {
   "cell_type": "code",
   "execution_count": null,
   "metadata": {
    "collapsed": false
   },
   "outputs": [],
   "source": [
    "display_for_episode(episode = 380, show_adequacy = True, show_distance = True)"
   ]
  },
  {
   "cell_type": "code",
   "execution_count": null,
   "metadata": {
    "collapsed": false
   },
   "outputs": [],
   "source": [
    "display_for_episode(episode = 10, show_adequacy = True, show_distance = True)"
   ]
  },
  {
   "cell_type": "code",
   "execution_count": null,
   "metadata": {
    "collapsed": false,
    "scrolled": false
   },
   "outputs": [],
   "source": [
    "display_for_episode(episode = 30, show_adequacy = True, show_distance = False)\n",
    "display_for_episode(episode = 50, show_adequacy = True, show_distance = False)\n",
    "display_for_episode(episode = 100, show_adequacy = True, show_distance = False)\n",
    "display_for_episode(episode = 200, show_adequacy = True, show_distance = False)\n",
    "display_for_episode(episode = 300, show_adequacy = True, show_distance = False)\n",
    "display_for_episode(episode = 400, show_adequacy = True, show_distance = False)\n",
    "\n",
    "# display_for_episode(episode = 33, show_adequacy = False, show_distance = True)\n",
    "# display_for_episode(episode = 34, show_adequacy = False, show_distance = True)\n",
    "# display_for_episode(episode = 35, show_adequacy = False, show_distance = True)\n",
    "# display_for_episode(episode = 36, show_adequacy = False, show_distance = True)"
   ]
  },
  {
   "cell_type": "code",
   "execution_count": null,
   "metadata": {
    "collapsed": false,
    "scrolled": false
   },
   "outputs": [],
   "source": [
    "# display_for_episode(episode = 299, show_adequacy = False, show_distance = True)\n",
    "# del perfs_dict[100]\n",
    "display_for_episode(episode = 100, show_adequacy = True, show_distance = True)\n",
    "# display_for_episode(episode = 302, show_adequacy = False, show_distance = True)\n",
    "# display_for_episode(episode = 305, show_adequacy = False, show_distance = True)\n",
    "# display_for_episode(episode = 310, show_adequacy = False, show_distance = True)"
   ]
  },
  {
   "cell_type": "code",
   "execution_count": null,
   "metadata": {
    "collapsed": false
   },
   "outputs": [],
   "source": [
    "import matplotlib.pyplot as plt\n",
    "import numpy as np\n",
    "\n",
    "fig, axis = plt.subplots()\n",
    "# a = np.random.random((100, 100)) # ((16, 16))\n",
    "episode = episodes[0]\n",
    "brain_file_name, r_matrix_looking_fwd = dict_looking_at[episode]\n",
    "heatmap = axis.pcolor(r_matrix_looking_fwd, cmap=plt.cm.afmhot, vmin=0, vmax=1) # brg, cool or Blues)\n",
    "# plt.imshow(a, cmap='hot', interpolation='nearest')\n",
    "plt.colorbar(heatmap)\n",
    "problem_descr = \"puck static at (0,0); player starts at upper right-corner\"\n",
    "plt.title(\"Problem: %s\\nEpisode: %d, Source: \\n'%s'\" % (problem_descr, episode, brain_file_name))\n",
    "plt.show()"
   ]
  },
  {
   "cell_type": "code",
   "execution_count": null,
   "metadata": {
    "collapsed": false
   },
   "outputs": [],
   "source": [
    "len(np.unique(evaluator.sensing_matrix))"
   ]
  },
  {
   "cell_type": "code",
   "execution_count": null,
   "metadata": {
    "collapsed": false
   },
   "outputs": [],
   "source": [
    "import matplotlib.pyplot as plt\n",
    "import numpy as np\n",
    "\n",
    "fig, axn = plt.subplots(2, 2, sharex=True, sharey=True)\n",
    "for i, axis in enumerate(axn.flat):\n",
    "    heatmap = axis.pcolor(r_matrix_looking_fwd, cmap=plt.cm.afmhot, vmin=0, vmax=1) # brg, cool or Blues)\n",
    "    # axis.set_title(\"Episode: %d, Source: \\n'%s'\" % (episode, brain_file_name))\n",
    "    axis.set_title(\"Episode: %d\" % (episode))\n",
    "plt.colorbar(heatmap)\n",
    "problem_descr = \"puck static at (0,0); player starts at upper right-corner\\n Root dir for brain: %s\" % (brain_root_dir)\n",
    "# plt.title(\"Episode: %d, Source: \\n'%s'\" % (episode, brain_file_name))\n",
    "plt.suptitle(problem_descr)\n",
    "plt.show()"
   ]
  },
  {
   "cell_type": "code",
   "execution_count": null,
   "metadata": {
    "collapsed": false
   },
   "outputs": [],
   "source": [
    "import matplotlib.pyplot as plt\n",
    "import numpy as np\n",
    "\n",
    "def plot_matrix(episode, brain_file_name, matrix_with_values):\n",
    "    fig, axis = plt.subplots()\n",
    "    # a = np.random.random((100, 100)) # ((16, 16))\n",
    "    heatmap = axis.pcolor(matrix_with_values, cmap=plt.cm.brg) # cool or Blues)\n",
    "    # plt.imshow(a, cmap='hot', interpolation='nearest')\n",
    "    plt.colorbar(heatmap)\n",
    "    problem_descr = \"puck static at (0,0); player starts at upper right-corner\"\n",
    "    plt.title(\"Problem: %s\\nEpisode: %d, Source: \\n'%s'\" % (problem_descr, episode, brain_file_name))\n",
    "    plt.show()\n",
    "for the_episode, file_and_matrix in dict_looking_at.items():\n",
    "    brain_file_name, r_matrix_looking_fwd = file_and_matrix\n",
    "    plot_matrix(episode, brain_file_name, r_matrix_looking_fwd)"
   ]
  },
  {
   "cell_type": "code",
   "execution_count": null,
   "metadata": {
    "collapsed": false
   },
   "outputs": [],
   "source": [
    "r_matrix_looking_fwd[0,64]"
   ]
  },
  {
   "cell_type": "code",
   "execution_count": null,
   "metadata": {
    "collapsed": false
   },
   "outputs": [],
   "source": [
    "r_matrix_looking_fwd2[0,64]"
   ]
  },
  {
   "cell_type": "code",
   "execution_count": null,
   "metadata": {
    "collapsed": false
   },
   "outputs": [],
   "source": [
    "np.where(r_matrix_looking_left != r_matrix_looking_left2)\n"
   ]
  },
  {
   "cell_type": "code",
   "execution_count": null,
   "metadata": {
    "collapsed": false
   },
   "outputs": [],
   "source": [
    "def look_at_puck(p: Player):\n",
    "    p.speed = X_UNIT_VECTOR\n",
    "    p.align_with_puck()\n",
    "\n",
    "def do_to_player(ice_rink: HockeyHalfRink, pre_sense_fn) -> Player:\n",
    "    p1 = hockeyworld.attack[0]\n",
    "    p1.model.space.place_agent(p1, pos=Point(3, 6))\n",
    "    pre_sense_fn(p1)\n",
    "    return p1\n",
    "\n",
    "hockeyworld = HockeyHalfRink(how_many_defense=0, how_many_offense=1,\n",
    "                             # following parameters don't matter\n",
    "                             one_step_in_seconds=1, collect_data_every_secs=1, record_this_many_minutes=1)\n",
    "p1 = do_to_player(hockeyworld, look_at_puck)\n",
    "hockeyworld2 = HockeyHalfRink(how_many_defense=0, how_many_offense=1,\n",
    "                             # following parameters don't matter\n",
    "                             one_step_in_seconds=1, collect_data_every_secs=1, record_this_many_minutes=1)\n",
    "p2 = do_to_player(hockeyworld2, look_at_puck)\n",
    "\n"
   ]
  },
  {
   "cell_type": "code",
   "execution_count": null,
   "metadata": {
    "collapsed": false
   },
   "outputs": [],
   "source": [
    "situation_sensed1 = BitstringEnvironmentState(full_state=p1.sense()).as_bitstring()\n",
    "situation_sensed2 = BitstringEnvironmentState(full_state=p2.sense()).as_bitstring()"
   ]
  },
  {
   "cell_type": "code",
   "execution_count": null,
   "metadata": {
    "collapsed": false
   },
   "outputs": [],
   "source": [
    "situation_sensed1"
   ]
  },
  {
   "cell_type": "code",
   "execution_count": null,
   "metadata": {
    "collapsed": false
   },
   "outputs": [],
   "source": [
    "situation_sensed2"
   ]
  },
  {
   "cell_type": "code",
   "execution_count": null,
   "metadata": {
    "collapsed": false
   },
   "outputs": [],
   "source": [
    "situation_sensed1 == situation_sensed2"
   ]
  },
  {
   "cell_type": "code",
   "execution_count": null,
   "metadata": {
    "collapsed": false
   },
   "outputs": [],
   "source": [
    "p1 == p2"
   ]
  },
  {
   "cell_type": "code",
   "execution_count": null,
   "metadata": {
    "collapsed": false
   },
   "outputs": [],
   "source": [
    "# quick demo\n",
    "def look_at_puck(p: Player):\n",
    "    p.speed = X_UNIT_VECTOR\n",
    "    p.align_with_puck()\n",
    "#     assert p.on_top_of_puck() or \n",
    "#     (p.vector_looking_at() == p.model.vector_to_puck(p.pos).normalized()), \n",
    "#     \"p.vector_looking_at() =%s, p.model.vector_to_puck(p.pos).normalized() = %s\" % (p.vector_looking_at(), p.model.vector_to_puck(p.pos).normalized())\n",
    "\n",
    "hockeyworld = HockeyHalfRink(how_many_defense=0, how_many_offense=1,\n",
    "                             # following parameters don't matter\n",
    "                             one_step_in_seconds=1, collect_data_every_secs=1, record_this_many_minutes=1)\n",
    "print(\"+++++++++++++++ Puck position: %s\" % (hockeyworld.puck.pos))\n",
    "evaluator = Evaluator(player=hockeyworld.attack[0], load_from_full_file_name=brain_file_name)\n",
    "m1 = evaluator.evaluation_matrix(pre_sense_fn=look_at_puck,\n",
    "                                       optimal_action=HockeyAction.SKATE_MIN_SPEED)\n",
    "hockeyworld2 = HockeyHalfRink(how_many_defense=0, how_many_offense=1,\n",
    "                             # following parameters don't matter\n",
    "                             one_step_in_seconds=1, collect_data_every_secs=1, record_this_many_minutes=1)\n",
    "print(\"+++++++++++++++ Puck position: %s\" % (hockeyworld2.puck.pos))\n",
    "evaluator = Evaluator(player=hockeyworld.attack[0], load_from_full_file_name=brain_file_name)\n",
    "m2 = evaluator.evaluation_matrix(pre_sense_fn=look_at_puck,\n",
    "                                       optimal_action=HockeyAction.SKATE_MIN_SPEED)\n",
    "m3 = evaluator.evaluation_matrix(pre_sense_fn=look_at_puck,\n",
    "                                       optimal_action=HockeyAction.SKATE_MIN_SPEED)\n"
   ]
  },
  {
   "cell_type": "code",
   "execution_count": null,
   "metadata": {
    "collapsed": false
   },
   "outputs": [],
   "source": [
    "np.all(m2 == m3)"
   ]
  },
  {
   "cell_type": "code",
   "execution_count": null,
   "metadata": {
    "collapsed": false
   },
   "outputs": [],
   "source": [
    "import matplotlib.pyplot as plt\n",
    "import numpy as np\n",
    "\n",
    "fig, axis = plt.subplots()\n",
    "a = np.random.random((1000, 100)) # ((16, 16))\n",
    "heatmap = axis.pcolor(a, cmap=plt.cm.brg) # cool or Blues)\n",
    "# heatmap = axis.pcolor(r_matrix_looking_left, cmap=plt.cm.brg) # cool or Blues)\n",
    "# plt.imshow(a, cmap='hot', interpolation='nearest')\n",
    "plt.colorbar(heatmap)\n",
    "plt.show()"
   ]
  },
  {
   "cell_type": "code",
   "execution_count": null,
   "metadata": {
    "collapsed": false
   },
   "outputs": [],
   "source": [
    "import numpy as np\n",
    "import matplotlib.pyplot as plt\n",
    "from mpl_toolkits.axes_grid1 import AxesGrid\n",
    "\n",
    "# Some random data\n",
    "values1 = r_matrix_looking_left # np.random.rand(10,10)\n",
    "values2 = np.random.rand(10,10)\n",
    "values3 = np.random.rand(10,10)\n",
    "values4 = np.random.rand(10,10)\n",
    "vals = [values1,values2,values3,values4]\n",
    "\n",
    "fig = plt.figure()\n",
    "\n",
    "grid = AxesGrid(fig, 111,\n",
    "                nrows_ncols=(2, 2),\n",
    "                axes_pad=0.05,\n",
    "                share_all=True,\n",
    "                label_mode=\"L\",\n",
    "                cbar_location=\"right\",\n",
    "                cbar_mode=\"single\",\n",
    "                )\n",
    "\n",
    "for val, ax in zip(vals,grid):\n",
    "    im = ax.imshow(val, vmin=0, vmax=1)\n",
    "\n",
    "grid.cbar_axes[0].colorbar(im)\n",
    "\n",
    "for cax in grid.cbar_axes:\n",
    "    cax.toggle_label(False)\n",
    "\n",
    "plt.show()"
   ]
  },
  {
   "cell_type": "code",
   "execution_count": null,
   "metadata": {
    "collapsed": true
   },
   "outputs": [],
   "source": [
    "    "
   ]
  }
 ],
 "metadata": {
  "kernelspec": {
   "display_name": "Python (hockey-simulation)",
   "language": "python",
   "name": "hockey-simulation"
  },
  "language_info": {
   "codemirror_mode": {
    "name": "ipython",
    "version": 3
   },
   "file_extension": ".py",
   "mimetype": "text/x-python",
   "name": "python",
   "nbconvert_exporter": "python",
   "pygments_lexer": "ipython3",
   "version": "3.6.2"
  }
 },
 "nbformat": 4,
 "nbformat_minor": 2
}
